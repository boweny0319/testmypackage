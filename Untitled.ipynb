{
 "cells": [
  {
   "cell_type": "code",
   "execution_count": 1,
   "id": "65f1d673-7bbb-46b8-99f6-f34c5ac2a42a",
   "metadata": {},
   "outputs": [
    {
     "name": "stderr",
     "output_type": "stream",
     "text": [
      "\u001b[36mi\u001b[39m Updating \u001b[34m\u001b[34mtestmypackage\u001b[34m\u001b[39m documentation\n",
      "\n",
      "\u001b[36mi\u001b[39m Loading \u001b[34m\u001b[34mtestmypackage\u001b[34m\u001b[39m\n",
      "\n"
     ]
    },
    {
     "name": "stdout",
     "output_type": "stream",
     "text": [
      "Writing NAMESPACE\n",
      "Writing testGitapi.Rd\n"
     ]
    }
   ],
   "source": [
    "devtools::document()"
   ]
  },
  {
   "cell_type": "code",
   "execution_count": 7,
   "id": "ecce1505-35b8-463e-ac6f-9c87339db739",
   "metadata": {},
   "outputs": [
    {
     "name": "stderr",
     "output_type": "stream",
     "text": [
      "\u001b[32mv\u001b[39m Setting active project to \u001b[34m'F:/G/UBCMDS/DATA534/Project/Test/testPackage/testmypackage'\u001b[39m\n",
      "\n",
      "\u001b[32mv\u001b[39m Adding \u001b[34m'knitr'\u001b[39m to \u001b[32mSuggests\u001b[39m field in DESCRIPTION\n",
      "\n",
      "\u001b[32mv\u001b[39m Setting \u001b[32mVignetteBuilder\u001b[39m field in DESCRIPTION to \u001b[34m'knitr'\u001b[39m\n",
      "\n",
      "\u001b[32mv\u001b[39m Adding \u001b[34m'inst/doc'\u001b[39m to \u001b[34m'.gitignore'\u001b[39m\n",
      "\n",
      "\u001b[32mv\u001b[39m Creating \u001b[34m'vignettes/'\u001b[39m\n",
      "\n",
      "\u001b[32mv\u001b[39m Adding \u001b[34m'*.html'\u001b[39m, \u001b[34m'*.R'\u001b[39m to \u001b[34m'vignettes/.gitignore'\u001b[39m\n",
      "\n",
      "\u001b[32mv\u001b[39m Adding \u001b[34m'rmarkdown'\u001b[39m to \u001b[32mSuggests\u001b[39m field in DESCRIPTION\n",
      "\n",
      "\u001b[32mv\u001b[39m Writing \u001b[34m'vignettes/introduction.Rmd'\u001b[39m\n",
      "\n",
      "\u001b[31m*\u001b[39m Edit \u001b[34m'vignettes/introduction.Rmd'\u001b[39m\n",
      "\n"
     ]
    }
   ],
   "source": [
    "usethis::use_vignette(\"introduction\")"
   ]
  },
  {
   "cell_type": "code",
   "execution_count": 6,
   "id": "d23cd9ea-1732-4959-a4b1-081367dff09b",
   "metadata": {},
   "outputs": [
    {
     "ename": "ERROR",
     "evalue": "Error: 'use_vignette' is not an exported object from 'namespace:devtools'\n",
     "output_type": "error",
     "traceback": [
      "Error: 'use_vignette' is not an exported object from 'namespace:devtools'\nTraceback:\n"
     ]
    }
   ],
   "source": [
    "devtools::use_vignette(\"introduction\")"
   ]
  },
  {
   "cell_type": "code",
   "execution_count": null,
   "id": "c1d01643-8171-4709-abd7-a1dcc5d01e79",
   "metadata": {},
   "outputs": [],
   "source": []
  }
 ],
 "metadata": {
  "kernelspec": {
   "display_name": "R",
   "language": "R",
   "name": "ir"
  },
  "language_info": {
   "codemirror_mode": "r",
   "file_extension": ".r",
   "mimetype": "text/x-r-source",
   "name": "R",
   "pygments_lexer": "r",
   "version": "4.1.2"
  }
 },
 "nbformat": 4,
 "nbformat_minor": 5
}
